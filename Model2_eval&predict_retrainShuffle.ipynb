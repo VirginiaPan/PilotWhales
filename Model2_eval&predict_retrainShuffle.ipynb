{
 "cells": [
  {
   "cell_type": "code",
   "execution_count": 1,
   "metadata": {},
   "outputs": [
    {
     "name": "stdout",
     "output_type": "stream",
     "text": [
      "finished imports!\n"
     ]
    },
    {
     "name": "stderr",
     "output_type": "stream",
     "text": [
      "Using TensorFlow backend.\n"
     ]
    }
   ],
   "source": [
    "#import things to use\n",
    "import os\n",
    "import numpy as np\n",
    "import tensorflow\n",
    "import keras\n",
    "from keras.models import Sequential\n",
    "from keras.layers import Activation, Masking, Dense \n",
    "from keras.layers import Convolution2D as Conv2D \n",
    "from keras.layers import GlobalAveragePooling2D, GlobalMaxPooling2D \n",
    "from keras.layers import Softmax, ReLU, BatchNormalization\n",
    "from keras.optimizers import Adam\n",
    "from keras.callbacks import EarlyStopping\n",
    "from keras.utils import np_utils\n",
    "from sklearn import metrics \n",
    "from keras.optimizers import SGD\n",
    "print('finished imports!')"
   ]
  },
  {
   "cell_type": "code",
   "execution_count": 2,
   "metadata": {},
   "outputs": [
    {
     "name": "stdout",
     "output_type": "stream",
     "text": [
      "1\n"
     ]
    }
   ],
   "source": [
    "#?\n",
    "from keras.backend.tensorflow_backend import set_session\n",
    "config = tensorflow.ConfigProto()\n",
    "config.intra_op_parallelism_threads = 1\n",
    "print(config.intra_op_parallelism_threads)\n",
    "set_session(tensorflow.Session(config=config))"
   ]
  },
  {
   "cell_type": "code",
   "execution_count": 3,
   "metadata": {},
   "outputs": [
    {
     "name": "stdout",
     "output_type": "stream",
     "text": [
      "made variable maxTime\n",
      "got data files in a list\n",
      "changed to files folder\n",
      "2097\n",
      "found trainingMax\n"
     ]
    }
   ],
   "source": [
    "def find_max(list_path, list_name, files_path): \n",
    "    #change to the directory where list of STFT files is \n",
    "    os.chdir(list_path)\n",
    "    #loop through to find maxTime, Don't need to save anything else though\n",
    "    maxTime = 0\n",
    "    print('made variable maxTime')\n",
    "\n",
    "    #open file (lists all train .npy STFT file names) \n",
    "    file = open(list_name, 'r') \n",
    "    data = file.read().split('\\n')\n",
    "    file.close()\n",
    "    print('got data files in a list')\n",
    "    #print(data)\n",
    "\n",
    "    os.chdir(files_path)\n",
    "    print('changed to files folder')\n",
    "\n",
    "    for array in data:\n",
    "        #find cols (number of time steps) of each STFT and save longest one\n",
    "        curSTFT = np.load(array)\n",
    "        rows, cols = curSTFT.shape\n",
    "        if (cols>maxTime):\n",
    "            maxTime = cols\n",
    "        if (rows!=1025):\n",
    "            print('Error, not 1025 STFT coefficients') \n",
    "    \n",
    "    return maxTime \n",
    "\n",
    "trainingMax = find_max('/home/ec2-user/SageMaker','newTrainListLesser.txt', '/home/ec2-user/SageMaker/aws_pilotwhales2_08_10_11_trainData')\n",
    "print(trainingMax)\n",
    "print('found trainingMax')"
   ]
  },
  {
   "cell_type": "code",
   "execution_count": 4,
   "metadata": {},
   "outputs": [
    {
     "name": "stdout",
     "output_type": "stream",
     "text": [
      "done with get_labels_get_samples\n"
     ]
    }
   ],
   "source": [
    "def get_labels_and_samples(path, file, datapath, maxTime):\n",
    "    #change to the directory where list of STFT files is \n",
    "    os.chdir(path)\n",
    "    \n",
    "    labels = []\n",
    "    paddedSTFTs = []\n",
    "    print('made variables')\n",
    "\n",
    "    #open file (lists all train .npy STFT file names) \n",
    "    file = open(file, 'r') #note, ran with 169 in TopList, could not handle all 676\n",
    "    data = file.read().split('\\n')\n",
    "    file.close()\n",
    "    print('got data files in a list')\n",
    "    print(data)\n",
    "\n",
    "    os.chdir(datapath)\n",
    "    print('changed to files folder')\n",
    "\n",
    "    for array in data:\n",
    "        #loop through to find out if file is a buzz or minibuzz, and add label accordingly \n",
    "        nameParse = array.split(\"_\",-1)\n",
    "        #print(nameParse)\n",
    "        typeParse = nameParse[4].split(\"u\", -1)\n",
    "        #print(typeParse)\n",
    "        if(typeParse[0] == 'b'):\n",
    "            #buzz = 1 \n",
    "            labels.append(1)\n",
    "        elif(typeParse[0] == 'minib'):\n",
    "            #minibuzz = 0\n",
    "            labels.append(0)\n",
    "        else: \n",
    "            print('Error, not a buzz or minibuzz!')\n",
    "\n",
    "    print(labels) \n",
    "    print('label loop done')\n",
    "\n",
    "    for array in data: \n",
    "        #loop though STFTs again to zero pad, transpose, and reshape soo that there is one channel  \n",
    "        #NOTE: must be done after we definitvely know the max number of time steps\n",
    "        curSTFT = np.load(array)\n",
    "        rows, cols = curSTFT.shape\n",
    "\n",
    "        zeroPad = np.zeros((rows,maxTime-cols))\n",
    "        paddedSTFT = np.append(curSTFT, zeroPad, axis = 1)\n",
    "\n",
    "        paddedSTFT = np.transpose(paddedSTFT)\n",
    "        paddedSTFT = np.reshape(paddedSTFT, paddedSTFT.shape + (1,))\n",
    "\n",
    "        paddedSTFTs.append(paddedSTFT)\n",
    "\n",
    "    print('sample loop done')\n",
    "\n",
    "    labels = np.array(labels)\n",
    "    #one hot encoding for labels\n",
    "    hotlabels = keras.utils.to_categorical(labels, num_classes=2, dtype='float32')\n",
    "    samples = np.array(paddedSTFTs)\n",
    "    print('hotlabels and samples in np arrays')\n",
    "    return hotlabels, samples\n",
    "\n",
    "print('done with get_labels_get_samples')"
   ]
  },
  {
   "cell_type": "code",
   "execution_count": null,
   "metadata": {},
   "outputs": [],
   "source": []
  },
  {
   "cell_type": "code",
   "execution_count": 5,
   "metadata": {},
   "outputs": [
    {
     "name": "stdout",
     "output_type": "stream",
     "text": [
      "generated training set\n",
      "generated vaildation set\n"
     ]
    }
   ],
   "source": [
    "def data_generator(path, file, datapath, bs, maxTime, mode='train'):\n",
    "    # open the text file for reading\n",
    "    os.chdir(path)\n",
    "    f = open(file, 'r')\n",
    "    while True: \n",
    "        \n",
    "        # initialize our batches of images and labels\n",
    "        samples = []\n",
    "        labels = []\n",
    "    \n",
    "        # keep looping until we reach our batch size\n",
    "        while len(samples) < bs:\n",
    "            # attempt to read the next line of the text file\n",
    "            line = f.readline()\n",
    "            \n",
    "            # check to see if the line is empty, indicating we have\n",
    "            # reached the end of the file\n",
    "            if line == \"\":\n",
    "                # reset the file pointer to the beginning of the file\n",
    "                # and re-read the line\n",
    "                f.seek(0)\n",
    "                line = f.readline()\n",
    "                # if we are evaluating we should now break from our\n",
    "\t\t\t\t# loop to ensure we don't continue to fill up the\n",
    "\t\t\t\t# batch from samples at the beginning of the file\n",
    "                if mode == \"eval\":\n",
    "                    break\n",
    "    \n",
    "            # construct list of labels: find out if file is a buzz or minibuzz, and add label accordingly \n",
    "            nameParse = line.split('_',-1)\n",
    "            #print(nameParse)\n",
    "            typeParse = nameParse[4].split('u', -1)\n",
    "            #print(typeParse)\n",
    "            if(typeParse[0] == 'b'):\n",
    "                #buzz = 1 \n",
    "                labels.append(1)\n",
    "            elif(typeParse[0] == 'minib'):\n",
    "                #minibuzz = 0\n",
    "                labels.append(0)\n",
    "            else: \n",
    "                print('Error, not a buzz or minibuzz!')\n",
    "    \n",
    "            #switch to aws_pilotwhales2 folder\n",
    "            os.chdir(datapath)\n",
    "            #print('changed to aws_pilotwhales2 folder')\n",
    "            \n",
    "            #construct list of samples\n",
    "            lineParse = line.split(\"\\n\",-1)\n",
    "            #print(lineParse)\n",
    "            #print(os.getcwd())\n",
    "            curSTFT = np.load(lineParse[0])\n",
    "            rows, cols = curSTFT.shape\n",
    "    \n",
    "            zeroPad = np.zeros((rows,maxTime-cols))\n",
    "            paddedSTFT = np.append(curSTFT, zeroPad, axis = 1)\n",
    "    \n",
    "            paddedSTFT = np.transpose(paddedSTFT)\n",
    "            paddedSTFT = np.reshape(paddedSTFT, paddedSTFT.shape + (1,))\n",
    "    \n",
    "            samples.append(paddedSTFT)\n",
    "        \n",
    "        #convert from lists to numpy arrays\n",
    "        labels = np.array(labels)\n",
    "        #one hot encoding for labels\n",
    "        hotlabels = keras.utils.to_categorical(labels, num_classes=2, dtype='float32')\n",
    "        samples = np.array(samples)\n",
    "        #print('hotlabels and samples in np arrays')\n",
    "    \n",
    "        # yield the batch to the calling function\n",
    "        if mode == \"predict\":\n",
    "            yield(samples)\n",
    "        else: \n",
    "            yield (samples, hotlabels)\n",
    "        \n",
    "# initialize both the training and validation generators\n",
    "trainGen = data_generator('/home/ec2-user/SageMaker', 'newTrainOnlyListLesser.txt', '/home/ec2-user/SageMaker/aws_pilotwhales2_08_10_11_trainData', 13, trainingMax, mode = 'train')\n",
    "print('generated training set')\n",
    "validGen = data_generator('/home/ec2-user/SageMaker', 'newValidListLesser.txt', '/home/ec2-user/SageMaker/aws_pilotwhales2_08_10_11_trainData', 13, trainingMax, mode = 'train')\n",
    "print('generated vaildation set')"
   ]
  },
  {
   "cell_type": "code",
   "execution_count": 6,
   "metadata": {},
   "outputs": [
    {
     "name": "stdout",
     "output_type": "stream",
     "text": [
      "ready to start model\n",
      "made model\n",
      "2097\n",
      "WARNING:tensorflow:From /home/ec2-user/anaconda3/envs/amazonei_tensorflow_p36/lib/python3.6/site-packages/tensorflow/python/framework/op_def_library.py:263: colocate_with (from tensorflow.python.framework.ops) is deprecated and will be removed in a future version.\n",
      "Instructions for updating:\n",
      "Colocations handled automatically by placer.\n",
      "layer 1 done\n",
      "layer 2 done\n",
      "layer 3 done\n",
      "layer 4 done\n",
      "layer 5 done\n",
      "layer 6 done\n",
      "compiled\n",
      "_________________________________________________________________\n",
      "Layer (type)                 Output Shape              Param #   \n",
      "=================================================================\n",
      "conv2d_1 (Conv2D)            (None, 2097, 1, 256)      262400    \n",
      "_________________________________________________________________\n",
      "re_lu_1 (ReLU)               (None, 2097, 1, 256)      0         \n",
      "_________________________________________________________________\n",
      "conv2d_2 (Conv2D)            (None, 1049, 1, 256)      196608    \n",
      "_________________________________________________________________\n",
      "re_lu_2 (ReLU)               (None, 1049, 1, 256)      0         \n",
      "_________________________________________________________________\n",
      "conv2d_3 (Conv2D)            (None, 525, 1, 256)       196608    \n",
      "_________________________________________________________________\n",
      "re_lu_3 (ReLU)               (None, 525, 1, 256)       0         \n",
      "_________________________________________________________________\n",
      "conv2d_4 (Conv2D)            (None, 263, 1, 256)       196608    \n",
      "_________________________________________________________________\n",
      "re_lu_4 (ReLU)               (None, 263, 1, 256)       0         \n",
      "_________________________________________________________________\n",
      "global_max_pooling2d_1 (Glob (None, 256)               0         \n",
      "_________________________________________________________________\n",
      "dense_1 (Dense)              (None, 2)                 512       \n",
      "=================================================================\n",
      "Total params: 852,736\n",
      "Trainable params: 852,736\n",
      "Non-trainable params: 0\n",
      "_________________________________________________________________\n",
      "None\n"
     ]
    }
   ],
   "source": [
    "#MAKE MODEL AND COMPILE IT\n",
    "\n",
    "#layer 0: input\n",
    "#labels[], samples[] (maxTime rows, 1025 cols) each in trainGen and validGen\n",
    "print('ready to start model')\n",
    "\n",
    "# build model\n",
    "model = Sequential()\n",
    "print('made model')\n",
    "\n",
    "#NOTE, CHANGED PADDING ON 2D CONVOLUTIONS from 'valid'=no paddinng to 'same'=padding so input and output are same dimensions\n",
    "\n",
    "#layer 1: 2D convolution between input and 256 filters with 1 row and 1025 cols\n",
    "print(trainingMax)\n",
    "model.add(Conv2D(256, input_shape = [trainingMax,1025,1], kernel_size = [1,1025], strides=(1, 1), padding='valid', data_format=\"channels_last\", dilation_rate=(1, 1), activation=None, use_bias=False, kernel_initializer='glorot_uniform', bias_initializer='zeros', kernel_regularizer=None, bias_regularizer=None, activity_regularizer=None, kernel_constraint=None, bias_constraint=None))\n",
    "#batch normalization- add in layer? don't understand parameters well\n",
    "#model.add(BatchNormalization(axis=-1, momentum=0.99, epsilon=0.001, center=True, scale=True, beta_initializer='zeros', gamma_initializer='ones', moving_mean_initializer='zeros', moving_variance_initializer='ones', beta_regularizer=None, gamma_regularizer=None, beta_constraint=None, gamma_constraint=None)\n",
    "#reLU layer\n",
    "model.add(ReLU(max_value=None, negative_slope=0.0, threshold=0.0))\n",
    "print('layer 1 done')\n",
    "\n",
    "##layer 2: 2D convolution between output of layer 1 and 256 filters with 3 rows and 256 cols\n",
    "model.add(Conv2D(256, kernel_size = [3,1], strides=(2, 1), padding='same', data_format=\"channels_last\", dilation_rate=(1, 1), activation=None, use_bias=False, kernel_initializer='glorot_uniform', bias_initializer='zeros', kernel_regularizer=None, bias_regularizer=None, activity_regularizer=None, kernel_constraint=None, bias_constraint=None))\n",
    "##batch normalization- add in layer? don't understand parameters well\n",
    "##model.add(BatchNormalization(axis=-1, momentum=0.99, epsilon=0.001, center=True, scale=True, beta_initializer='zeros', gamma_initializer='ones', moving_mean_initializer='zeros', moving_variance_initializer='ones', beta_regularizer=None, gamma_regularizer=None, beta_constraint=None, gamma_constraint=None)\n",
    "##reLU layer\n",
    "model.add(ReLU(max_value=None, negative_slope=0.0, threshold=0.0))\n",
    "print('layer 2 done')\n",
    "\n",
    "#layer 3: 2D convolution between output of layer 2 and 256 filters with 3 rows and 256 cols\n",
    "model.add(Conv2D(256, kernel_size = [3,1], strides=(2, 1), padding='same', data_format=\"channels_last\", dilation_rate=(1, 1), activation=None, use_bias=False, kernel_initializer='glorot_uniform', bias_initializer='zeros', kernel_regularizer=None, bias_regularizer=None, activity_regularizer=None, kernel_constraint=None, bias_constraint=None))\n",
    "##batch normalization- add in layer? don't understand parameters well\n",
    "##model.add(BatchNormalization(axis=-1, momentum=0.99, epsilon=0.001, center=True, scale=True, beta_initializer='zeros', gamma_initializer='ones', moving_mean_initializer='zeros', moving_variance_initializer='ones', beta_regularizer=None, gamma_regularizer=None, beta_constraint=None, gamma_constraint=None)\n",
    "##reLU layer\n",
    "model.add(ReLU(max_value=None, negative_slope=0.0, threshold=0.0))\n",
    "print('layer 3 done')\n",
    "\n",
    "#layer 4: 2D convolution between output of layer 3 and 256 filters with 3 rows and 256 cols\n",
    "model.add(Conv2D(256, kernel_size = [3,1], strides=(2, 1), padding='same', data_format=\"channels_last\", dilation_rate=(1, 1), activation=None, use_bias=False, kernel_initializer='glorot_uniform', bias_initializer='zeros', kernel_regularizer=None, bias_regularizer=None, activity_regularizer=None, kernel_constraint=None, bias_constraint=None))\n",
    "##batch normalization- add in layer? don't understand parameters well\n",
    "##model.add(BatchNormalization(axis=-1, momentum=0.99, epsilon=0.001, center=True, scale=True, beta_initializer='zeros', gamma_initializer='ones', moving_mean_initializer='zeros', moving_variance_initializer='ones', beta_regularizer=None, gamma_regularizer=None, beta_constraint=None, gamma_constraint=None)\n",
    "##reLU layer\n",
    "model.add(ReLU(max_value=None, negative_slope=0.0, threshold=0.0))\n",
    "print('layer 4 done')\n",
    "\n",
    "#layer 5: Global max pooling\n",
    "model.add(GlobalMaxPooling2D(data_format=\"channels_last\"))\n",
    "print('layer 5 done')\n",
    "\n",
    "#layer 6: fully connected layer\n",
    "model.add(Dense(2, activation='softmax', use_bias=False, kernel_initializer='glorot_uniform', bias_initializer='zeros', kernel_regularizer=None, bias_regularizer=None, activity_regularizer=None, kernel_constraint=None, bias_constraint=None))\n",
    "print('layer 6 done')\n",
    "\n",
    "#Compile model [COMPILE]\n",
    "#OLD COMPILE (for fit, not fit_generator)\n",
    "#model.compile(optimizer='adam', loss='binary_crossentropy', metrics=['accuracy'], loss_weights=None, sample_weight_mode=None, weighted_metrics=None, target_tensors=None)\n",
    "opt = SGD(lr=0.02) #note, can play with leraning rate and other parameters here\n",
    "model.compile(loss = \"binary_crossentropy\", optimizer = opt, metrics=[\"accuracy\"])\n",
    "print('compiled')\n",
    "\n",
    "print(model.summary())"
   ]
  },
  {
   "cell_type": "code",
   "execution_count": 7,
   "metadata": {},
   "outputs": [
    {
     "name": "stdout",
     "output_type": "stream",
     "text": [
      "[INFO] training w/ generator...\n",
      "WARNING:tensorflow:From /home/ec2-user/anaconda3/envs/amazonei_tensorflow_p36/lib/python3.6/site-packages/tensorflow/python/ops/math_ops.py:3066: to_int32 (from tensorflow.python.ops.math_ops) is deprecated and will be removed in a future version.\n",
      "Instructions for updating:\n",
      "Use tf.cast instead.\n",
      "WARNING:tensorflow:From /home/ec2-user/anaconda3/envs/amazonei_tensorflow_p36/lib/python3.6/site-packages/tensorflow/python/ops/math_grad.py:102: div (from tensorflow.python.ops.math_ops) is deprecated and will be removed in a future version.\n",
      "Instructions for updating:\n",
      "Deprecated in favor of operator or tf.math.divide.\n",
      "Epoch 1/5\n",
      " - 118s - loss: 0.6587 - acc: 0.7546 - val_loss: 0.5866 - val_acc: 0.8000\n",
      "Epoch 2/5\n",
      " - 117s - loss: 0.5060 - acc: 0.8901 - val_loss: 0.4182 - val_acc: 0.9154\n",
      "Epoch 3/5\n",
      " - 117s - loss: 0.3859 - acc: 0.8919 - val_loss: 0.3530 - val_acc: 0.9308\n",
      "Epoch 4/5\n",
      " - 117s - loss: 0.3050 - acc: 0.9139 - val_loss: 0.3460 - val_acc: 0.8923\n",
      "Epoch 5/5\n",
      " - 117s - loss: 0.3268 - acc: 0.8956 - val_loss: 0.3716 - val_acc: 0.9077\n",
      "ran fit_generator\n"
     ]
    }
   ],
   "source": [
    "#Now let us train our model [FIT]\n",
    "ES = keras.callbacks.EarlyStopping(monitor='val_loss', min_delta=0.01, patience=3, verbose=2, mode='auto', baseline=None, restore_best_weights=True)\n",
    "\n",
    "#with fit_generator\n",
    "print(\"[INFO] training w/ generator...\")\n",
    "model.fit_generator(trainGen, steps_per_epoch=42, epochs=5, verbose=2, callbacks=[ES], validation_data=validGen, validation_steps=10, class_weight=None, max_queue_size=10, workers=1, use_multiprocessing=False, shuffle=True, initial_epoch=0)\n",
    "print('ran fit_generator')\n",
    "\n",
    "#with fit\n",
    "#model.fit(x=samples, y=hotlabels, batch_size=13, epochs=5, verbose=2, callbacks=[ES], validation_split=0.2, validation_data=None, shuffle=True, class_weight=None, sample_weight=None, initial_epoch=0, steps_per_epoch=None, validation_steps=None)\n",
    "#print('ran fit')"
   ]
  },
  {
   "cell_type": "code",
   "execution_count": 8,
   "metadata": {},
   "outputs": [
    {
     "name": "stdout",
     "output_type": "stream",
     "text": [
      "generated testing set\n"
     ]
    }
   ],
   "source": [
    "#Prepare test data for evaluation\n",
    "\n",
    "#NOTE NEED TO USE TRAINING MAX TO BE CONSISTENT WITH THE NEURAL NETWORK\n",
    "#find max length (time) in testing data\n",
    "#testingMax = find_max('/home/ec2-user/SageMaker','testList.txt', '/home/ec2-user/SageMaker/aws_pilotwhales2_testData')\n",
    "#maxTime = testingMax\n",
    "#print(testingMax)\n",
    "#print('found testingMax')\n",
    "\n",
    "# initialize testing generator\n",
    "testGen = data_generator('/home/ec2-user/SageMaker', 'newTestListLesser.txt', '/home/ec2-user/SageMaker/aws_pilotwhales2_08_10_11_testData', 13, trainingMax, mode = \"eval\")\n",
    "print('generated testing set')"
   ]
  },
  {
   "cell_type": "code",
   "execution_count": 9,
   "metadata": {},
   "outputs": [
    {
     "name": "stdout",
     "output_type": "stream",
     "text": [
      "13/13 [==============================] - 49s 4s/step\n",
      "[0.2015399462901629, 0.9763313623575064]\n",
      "['loss', 'acc']\n"
     ]
    }
   ],
   "source": [
    "#Now let us evaluate our model [EVALUATE]\n",
    "\n",
    "#with evaluate_generator\n",
    "results = model.evaluate_generator(testGen, steps = 13, max_queue_size=10, workers=1, use_multiprocessing=False, verbose=1)\n",
    "print(results)\n",
    "print(model.metrics_names)\n",
    "\n",
    "#with evauluate\n",
    "#results = model.evaluate(x=testSamples, y=testHotlabels, batch_size=26, verbose=1, sample_weight=None, steps=None)\n"
   ]
  },
  {
   "cell_type": "code",
   "execution_count": 10,
   "metadata": {},
   "outputs": [
    {
     "name": "stdout",
     "output_type": "stream",
     "text": [
      "made variables\n",
      "got data files in a list\n",
      "['STFT_F_gm266a_event1016_buzz344.npy', 'STFT_F_gm185b_event415_minibuzz148.npy', 'STFT_F_gm267a_event706_buzz176.npy', 'STFT_F_gm208a_event236_minibuzz4.npy', 'STFT_F_gm266a_event939_buzz280.npy', 'STFT_F_gm185b_event423_minibuzz154.npy', 'STFT_F_gm267a_event336_buzz20.npy', 'STFT_F_gm187b_event2312_minibuzz147.npy', 'STFT_F_gm266a_event1078_buzz394.npy', 'STFT_F_gm187b_event336_minibuzz33.npy', 'STFT_F_gm266a_event1298_buzz555.npy', 'STFT_F_gm185b_event299_minibuzz94.npy', 'STFT_F_gm267a_event1635_buzz436.npy', 'STFT_F_gm185b_event389_minibuzz138.npy', 'STFT_F_gm266a_event1119_buzz422.npy', 'STFT_F_gm187b_event1919_minibuzz124.npy', 'STFT_F_gm267a_event460_buzz68.npy', 'STFT_F_gm185b_event256_minibuzz77.npy', 'STFT_F_gm208a_event660_buzz85.npy', 'STFT_F_gm208a_event100_minibuzz3.npy', 'STFT_F_gm187b_event660_buzz84.npy', 'STFT_F_gm185b_event398_minibuzz142.npy', 'STFT_F_gm267a_event846_buzz251.npy', 'STFT_F_gm185b_event262_minibuzz81.npy', 'STFT_F_gm266a_event796_buzz183.npy', 'STFT_F_gm185b_event205_minibuzz47.npy', 'STFT_F_gm266a_event1129_buzz432.npy', 'STFT_F_gm187b_event48_minibuzz3.npy', 'STFT_F_gm266a_event521_buzz87.npy', 'STFT_F_gm187b_event2314_minibuzz148.npy', 'STFT_F_gm267a_event550_buzz85.npy', 'STFT_F_gm187b_event1589_minibuzz83.npy', 'STFT_F_gm266a_event516_buzz82.npy', 'STFT_F_gm185b_event232_minibuzz64.npy', 'STFT_F_gm267a_event623_buzz130.npy', 'STFT_F_gm185b_event175_minibuzz26.npy', 'STFT_F_gm267a_event1513_buzz379.npy', 'STFT_F_gm187b_event1925_minibuzz125.npy', 'STFT_F_gm266a_event511_buzz77.npy', 'STFT_F_gm188a_event30_minibuzz4.npy', 'STFT_F_gm266a_event717_buzz109.npy', 'STFT_F_gm185b_event353_minibuzz110.npy', 'STFT_F_gm185b_event460_buzz13.npy', 'STFT_F_gm187b_event2186_minibuzz136.npy', 'STFT_F_gm266a_event141_buzz23.npy', 'STFT_F_gm187a_event260_minibuzz5.npy', 'STFT_F_gm266a_event1290_buzz547.npy', 'STFT_F_gm185b_event432_minibuzz160.npy', 'STFT_F_gm209c_event92_buzz3.npy', 'STFT_F_gm185b_event171_minibuzz23.npy', 'STFT_F_gm187b_event192_buzz38.npy', 'STFT_F_gm208a_event406_minibuzz12.npy', 'STFT_F_gm266a_event477_buzz70.npy', 'STFT_F_gm185b_event228_minibuzz61.npy', 'STFT_F_gm266a_event1045_buzz361.npy', 'STFT_F_gm187b_event197_minibuzz22.npy', 'STFT_F_gm267a_event1623_buzz424.npy', 'STFT_F_gm187a_event173_minibuzz4.npy', 'STFT_F_gm187b_event1408_buzz177.npy', 'STFT_F_gm187b_event1416_minibuzz77.npy', 'STFT_F_gm266a_event1258_buzz533.npy', 'STFT_F_gm186b_event39_minibuzz3.npy', 'STFT_F_gm208a_event369_buzz19.npy', 'STFT_F_gm187b_event765_minibuzz61.npy', 'STFT_F_gm266a_event772_buzz161.npy', 'STFT_F_gm186b_event41_minibuzz5.npy', 'STFT_F_gm266a_event227_buzz38.npy', 'STFT_F_gm185b_event184_minibuzz33.npy', 'STFT_F_gm267a_event350_buzz33.npy', 'STFT_F_gm187b_event2101_minibuzz128.npy', 'STFT_F_gm209c_event577_buzz14.npy', 'STFT_F_gm187b_event202_minibuzz25.npy', 'STFT_F_gm209a_event107_buzz36.npy', 'STFT_F_gm187b_event2141_minibuzz133.npy', 'STFT_F_gm185b_event537_buzz30.npy', 'STFT_F_gm185b_event163_minibuzz16.npy', 'STFT_F_gm266a_event726_buzz118.npy', 'STFT_F_gm187b_event2100_minibuzz127.npy', 'STFT_F_gm267a_event342_buzz25.npy', 'STFT_F_gm187b_event1595_minibuzz87.npy', 'STFT_F_gm267a_event215_buzz7.npy', 'STFT_F_gm208a_event767_minibuzz22.npy', 'STFT_F_gm266a_event451_buzz65.npy', 'STFT_F_gm185b_event203_minibuzz46.npy', 'STFT_F_gm266a_event1323_buzz563.npy', 'STFT_F_gm187b_event728_minibuzz54.npy', 'STFT_F_gm208a_event578_buzz60.npy', 'STFT_F_gm185b_event367_minibuzz121.npy', 'STFT_F_gm266a_event892_buzz258.npy', 'STFT_F_gm187b_event744_minibuzz57.npy', 'STFT_F_gm209c_event578_buzz15.npy', 'STFT_F_gm187b_event176_minibuzz20.npy', 'STFT_F_gm267a_event1559_buzz409.npy', 'STFT_F_gm187b_event2536_minibuzz172.npy', 'STFT_F_gm187a_event159_buzz3.npy', 'STFT_F_gm185b_event200_minibuzz44.npy', 'STFT_F_gm266a_event1326_buzz566.npy', 'STFT_F_gm185b_event349_minibuzz108.npy', 'STFT_F_gm208a_event740_buzz110.npy', 'STFT_F_gm185b_event483_minibuzz164.npy', 'STFT_F_gm267a_event1506_buzz372.npy', 'STFT_F_gm187b_event534_minibuzz44.npy', 'STFT_F_gm266a_event998_buzz326.npy', 'STFT_F_gm185b_event181_minibuzz30.npy', 'STFT_F_gm266a_event727_buzz119.npy', 'STFT_F_gm187b_event306_minibuzz27.npy', 'STFT_F_gm208a_event496_buzz45.npy', 'STFT_F_gm187b_event1600_minibuzz89.npy', 'STFT_F_gm266a_event1359_buzz575.npy', 'STFT_F_gm208a_event1149_minibuzz29.npy', 'STFT_F_gm267a_event1442_buzz360.npy', 'STFT_F_gm185b_event147_minibuzz2.npy', 'STFT_F_gm187b_event1479_buzz185.npy', 'STFT_F_gm187b_event1848_minibuzz116.npy', 'STFT_F_gm266a_event881_buzz247.npy', 'STFT_F_gm185b_event394_minibuzz140.npy', 'STFT_F_gm266a_event1247_buzz522.npy', 'STFT_F_gm187b_event198_minibuzz23.npy', 'STFT_F_gm267a_event789_buzz236.npy', 'STFT_F_gm185b_event281_minibuzz90.npy', 'STFT_F_gm267a_event1303_buzz342.npy', 'STFT_F_gm187b_event872_minibuzz68.npy', 'STFT_F_gm266a_event120_buzz2.npy', 'STFT_F_gm187b_event2429_minibuzz166.npy', 'STFT_F_gm266a_event1248_buzz523.npy', 'STFT_F_gm185b_event429_minibuzz157.npy', 'STFT_F_gm267a_event1549_buzz399.npy', 'STFT_F_gm187b_event337_minibuzz34.npy', 'STFT_F_gm266a_event523_buzz89.npy', 'STFT_F_gm187b_event54_minibuzz9.npy', 'STFT_F_gm267a_event474_buzz82.npy', 'STFT_F_gm185b_event219_minibuzz55.npy', 'STFT_F_gm187b_event2341_buzz241.npy', 'STFT_F_gm187b_event2555_minibuzz175.npy', 'STFT_F_gm266a_event1025_buzz348.npy', 'STFT_F_gm185b_event226_minibuzz60.npy', 'STFT_F_gm267a_event668_buzz155.npy', 'STFT_F_gm185b_event424_minibuzz155.npy', 'STFT_F_gm266a_event1200_buzz491.npy', 'STFT_F_gm185b_event378_minibuzz131.npy', 'STFT_F_gm187b_event2348_buzz246.npy', 'STFT_F_gm187b_event2192_minibuzz140.npy', 'STFT_F_gm187b_event201_buzz43.npy', 'STFT_F_gm185b_event315_minibuzz103.npy', 'STFT_F_gm266a_event740_buzz129.npy', 'STFT_F_gm185b_event193_minibuzz38.npy', 'STFT_F_gm187b_event1150_buzz131.npy', 'STFT_F_gm187b_event358_minibuzz37.npy', 'STFT_F_gm267a_event1516_buzz382.npy', 'STFT_F_gm187b_event175_minibuzz19.npy', 'STFT_F_gm266a_event767_buzz156.npy', 'STFT_F_gm187b_event2644_minibuzz182.npy', 'STFT_F_gm266a_event832_buzz219.npy', 'STFT_F_gm185b_event297_minibuzz92.npy', 'STFT_F_gm266a_event182_buzz33.npy', 'STFT_F_gm187b_event2189_minibuzz138.npy', 'STFT_F_gm267a_event768_buzz215.npy', 'STFT_F_gm185b_event266_minibuzz83.npy', 'STFT_F_gm208a_event438_buzz32.npy', 'STFT_F_gm187b_event764_minibuzz60.npy', 'STFT_F_gm266a_event530_buzz96.npy', 'STFT_F_gm185b_event273_minibuzz85.npy', 'STFT_F_gm267a_event975_buzz263.npy', 'STFT_F_gm187b_event2197_minibuzz141.npy', 'STFT_F_gm266a_event1118_buzz421.npy', 'STFT_F_gm187b_event2646_minibuzz183.npy', 'STFT_F_gm267a_event1301_buzz340.npy', 'STFT_F_gm187a_event166_minibuzz2.npy', 'STFT_F_gm187b_event112_buzz26.npy', 'STFT_F_gm187b_event2055_minibuzz126.npy']\n"
     ]
    },
    {
     "ename": "FileNotFoundError",
     "evalue": "[Errno 2] No such file or directory: '/home/ec2-user/SageMaker/aws_pilotwhales2_testData'",
     "output_type": "error",
     "traceback": [
      "\u001b[0;31m---------------------------------------------------------------------------\u001b[0m",
      "\u001b[0;31mFileNotFoundError\u001b[0m                         Traceback (most recent call last)",
      "\u001b[0;32m<ipython-input-10-c223e28d28e4>\u001b[0m in \u001b[0;36m<module>\u001b[0;34m()\u001b[0m\n\u001b[1;32m     13\u001b[0m \u001b[0;31m#preprocess STFT data in TestData folder!\u001b[0m\u001b[0;34m\u001b[0m\u001b[0;34m\u001b[0m\u001b[0m\n\u001b[1;32m     14\u001b[0m \u001b[0;31m#see getLabels_stackedData3.py, but don't give labels\u001b[0m\u001b[0;34m\u001b[0m\u001b[0;34m\u001b[0m\u001b[0m\n\u001b[0;32m---> 15\u001b[0;31m \u001b[0mhotlabels\u001b[0m\u001b[0;34m,\u001b[0m \u001b[0msamples\u001b[0m \u001b[0;34m=\u001b[0m \u001b[0mget_labels_and_samples\u001b[0m\u001b[0;34m(\u001b[0m\u001b[0;34m'/home/ec2-user/SageMaker'\u001b[0m\u001b[0;34m,\u001b[0m \u001b[0;34m'testList.txt'\u001b[0m\u001b[0;34m,\u001b[0m \u001b[0;34m'/home/ec2-user/SageMaker/aws_pilotwhales2_testData'\u001b[0m\u001b[0;34m,\u001b[0m \u001b[0mtrainingMax\u001b[0m\u001b[0;34m)\u001b[0m\u001b[0;34m\u001b[0m\u001b[0m\n\u001b[0m\u001b[1;32m     16\u001b[0m \u001b[0mhotlabels_pred\u001b[0m \u001b[0;34m=\u001b[0m \u001b[0mmodel\u001b[0m\u001b[0;34m.\u001b[0m\u001b[0mpredict\u001b[0m\u001b[0;34m(\u001b[0m\u001b[0msamples\u001b[0m\u001b[0;34m,\u001b[0m \u001b[0mbatch_size\u001b[0m\u001b[0;34m=\u001b[0m\u001b[0;36m13\u001b[0m\u001b[0;34m,\u001b[0m \u001b[0mverbose\u001b[0m\u001b[0;34m=\u001b[0m\u001b[0;36m1\u001b[0m\u001b[0;34m,\u001b[0m \u001b[0msteps\u001b[0m\u001b[0;34m=\u001b[0m\u001b[0;32mNone\u001b[0m\u001b[0;34m)\u001b[0m\u001b[0;34m\u001b[0m\u001b[0m\n",
      "\u001b[0;32m<ipython-input-4-d0ea73f65f6f>\u001b[0m in \u001b[0;36mget_labels_and_samples\u001b[0;34m(path, file, datapath, maxTime)\u001b[0m\n\u001b[1;32m     14\u001b[0m     \u001b[0mprint\u001b[0m\u001b[0;34m(\u001b[0m\u001b[0mdata\u001b[0m\u001b[0;34m)\u001b[0m\u001b[0;34m\u001b[0m\u001b[0m\n\u001b[1;32m     15\u001b[0m \u001b[0;34m\u001b[0m\u001b[0m\n\u001b[0;32m---> 16\u001b[0;31m     \u001b[0mos\u001b[0m\u001b[0;34m.\u001b[0m\u001b[0mchdir\u001b[0m\u001b[0;34m(\u001b[0m\u001b[0mdatapath\u001b[0m\u001b[0;34m)\u001b[0m\u001b[0;34m\u001b[0m\u001b[0m\n\u001b[0m\u001b[1;32m     17\u001b[0m     \u001b[0mprint\u001b[0m\u001b[0;34m(\u001b[0m\u001b[0;34m'changed to files folder'\u001b[0m\u001b[0;34m)\u001b[0m\u001b[0;34m\u001b[0m\u001b[0m\n\u001b[1;32m     18\u001b[0m \u001b[0;34m\u001b[0m\u001b[0m\n",
      "\u001b[0;31mFileNotFoundError\u001b[0m: [Errno 2] No such file or directory: '/home/ec2-user/SageMaker/aws_pilotwhales2_testData'"
     ]
    }
   ],
   "source": [
    "#HOLD OFF ON \n",
    "#[PREDICT] (w/TestData I kept aside as well)\n",
    "\n",
    "#predictGen = data_generator('/home/ec2-user/SageMaker', 'testList.txt', '/home/ec2-user/SageMaker/aws_pilotwhales2_testData', 13, trainingMax, mode = \"eval\")\n",
    "#print('generated predict set')\n",
    "\n",
    "#with predict_generator\n",
    "#need a different generator(just grab batches of data but do not know answer)\n",
    "#predictions = model.predict_generator(testGen, steps=13, max_queue_size=10, workers=1, use_multiprocessing=False, verbose=1)\n",
    "#print(predictions)\n",
    "\n",
    "#with predict\n",
    "#preprocess STFT data in TestData folder!\n",
    "#see getLabels_stackedData3.py, but don't give labels\n",
    "hotlabels, samples = get_labels_and_samples('/home/ec2-user/SageMaker', 'testList.txt', '/home/ec2-user/SageMaker/aws_pilotwhales2_testData', trainingMax)\n",
    "hotlabels_pred = model.predict(samples, batch_size=13, verbose=1, steps=None)"
   ]
  },
  {
   "cell_type": "code",
   "execution_count": null,
   "metadata": {},
   "outputs": [],
   "source": [
    "#HOLD OFF ON \n",
    "#see if prediction results are right (compare hot labels I generate with what the model guesses)\n",
    "print(hotlabels)\n",
    "hotlabels = keras.utils.to_categorical(hotlabels, num_classes=2, dtype='float32')\n",
    "print(hotlabels)\n",
    "print(hotlabels_pred)\n",
    "print((np.max(abs(hotlabels-hotlabels_pred),axis=1)>.5))"
   ]
  },
  {
   "cell_type": "code",
   "execution_count": 23,
   "metadata": {},
   "outputs": [],
   "source": [
    "# save the model\n",
    "# uncomment the lines below when you have a model you're happy with\n",
    "import h5py\n",
    "os.chdir('/home/ec2-user/SageMaker/')\n",
    "# model.save('Model2_eval+predict_retrainShuffle_2019-05-03.h5')\n",
    "# model.save_weights('Model2_eval+predict_retrainShuffle_weights_2019-05-03.h5')"
   ]
  },
  {
   "cell_type": "code",
   "execution_count": 18,
   "metadata": {},
   "outputs": [],
   "source": []
  },
  {
   "cell_type": "code",
   "execution_count": 19,
   "metadata": {},
   "outputs": [],
   "source": []
  },
  {
   "cell_type": "code",
   "execution_count": null,
   "metadata": {},
   "outputs": [],
   "source": []
  }
 ],
 "metadata": {
  "kernelspec": {
   "display_name": "conda_amazonei_tensorflow_p36",
   "language": "python",
   "name": "conda_amazonei_tensorflow_p36"
  },
  "language_info": {
   "codemirror_mode": {
    "name": "ipython",
    "version": 3
   },
   "file_extension": ".py",
   "mimetype": "text/x-python",
   "name": "python",
   "nbconvert_exporter": "python",
   "pygments_lexer": "ipython3",
   "version": "3.6.5"
  }
 },
 "nbformat": 4,
 "nbformat_minor": 2
}
