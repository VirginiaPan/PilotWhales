{
 "cells": [
  {
   "cell_type": "code",
   "execution_count": 1,
   "metadata": {},
   "outputs": [
    {
     "name": "stdout",
     "output_type": "stream",
     "text": [
      "finished imports!\n"
     ]
    },
    {
     "name": "stderr",
     "output_type": "stream",
     "text": [
      "Using TensorFlow backend.\n"
     ]
    }
   ],
   "source": [
    "#import things to use\n",
    "import os\n",
    "import numpy as np\n",
    "import tensorflow\n",
    "import keras\n",
    "from keras.models import Sequential\n",
    "from keras.layers import Activation, Masking, Dense \n",
    "from keras.layers import Convolution2D as Conv2D \n",
    "from keras.layers import GlobalAveragePooling2D, GlobalMaxPooling2D \n",
    "from keras.layers import Softmax, ReLU, BatchNormalization\n",
    "from keras.optimizers import Adam\n",
    "from keras.callbacks import EarlyStopping\n",
    "from keras.utils import np_utils\n",
    "from sklearn import metrics \n",
    "from keras.optimizers import SGD\n",
    "print('finished imports!')"
   ]
  },
  {
   "cell_type": "code",
   "execution_count": 2,
   "metadata": {},
   "outputs": [
    {
     "name": "stdout",
     "output_type": "stream",
     "text": [
      "1\n"
     ]
    }
   ],
   "source": [
    "#?\n",
    "from keras.backend.tensorflow_backend import set_session\n",
    "config = tensorflow.ConfigProto()\n",
    "config.intra_op_parallelism_threads = 1\n",
    "print(config.intra_op_parallelism_threads)\n",
    "set_session(tensorflow.Session(config=config))"
   ]
  },
  {
   "cell_type": "code",
   "execution_count": 3,
   "metadata": {},
   "outputs": [
    {
     "name": "stdout",
     "output_type": "stream",
     "text": [
      "made variable maxTime\n",
      "got data files in a list\n",
      "changed to files folder\n",
      "3559\n",
      "found trainingMax\n"
     ]
    }
   ],
   "source": [
    "def find_max(list_path, list_name, files_path): \n",
    "    #change to the directory where list of STFT files is \n",
    "    os.chdir(list_path)\n",
    "    #loop through to find maxTime, Don't need to save anything else though\n",
    "    maxTime = 0\n",
    "    print('made variable maxTime')\n",
    "\n",
    "    #open file (lists all train .npy STFT file names) \n",
    "    file = open(list_name, 'r') \n",
    "    data = file.read().split('\\n')\n",
    "    file.close()\n",
    "    print('got data files in a list')\n",
    "    #print(data)\n",
    "\n",
    "    os.chdir(files_path)\n",
    "    print('changed to files folder')\n",
    "\n",
    "    for array in data:\n",
    "        #find cols (number of time steps) of each STFT and save longest one\n",
    "        curSTFT = np.load(array)\n",
    "        rows, cols = curSTFT.shape\n",
    "        if (cols>maxTime):\n",
    "            maxTime = cols\n",
    "        if (rows!=1025):\n",
    "            print('Error, not 1025 STFT coefficients') \n",
    "    \n",
    "    return maxTime \n",
    "\n",
    "trainingMax = find_max('/home/ec2-user/SageMaker','trainListALL.txt', '/home/ec2-user/SageMaker/aws_pilotwhales2')\n",
    "print(trainingMax)\n",
    "print('found trainingMax')"
   ]
  },
  {
   "cell_type": "code",
   "execution_count": 4,
   "metadata": {},
   "outputs": [
    {
     "name": "stdout",
     "output_type": "stream",
     "text": [
      "done with get_labels_get_samples\n"
     ]
    }
   ],
   "source": [
    "def get_labels_and_samples(path, file, datapath, maxTime):\n",
    "    #change to the directory where list of STFT files is \n",
    "    os.chdir(path)\n",
    "    \n",
    "    labels = []\n",
    "    paddedSTFTs = []\n",
    "    print('made variables')\n",
    "\n",
    "    #open file (lists all train .npy STFT file names) \n",
    "    file = open(file, 'r') #note, ran with 169 in TopList, could not handle all 676\n",
    "    data = file.read().split('\\n')\n",
    "    file.close()\n",
    "    print('got data files in a list')\n",
    "    print(data)\n",
    "\n",
    "    os.chdir(datapath)\n",
    "    print('changed to files folder')\n",
    "\n",
    "    for array in data:\n",
    "        #loop through to find out if file is a buzz or minibuzz, and add label accordingly \n",
    "        nameParse = array.split(\"_\",-1)\n",
    "        #print(nameParse)\n",
    "        typeParse = nameParse[4].split(\"u\", -1)\n",
    "        #print(typeParse)\n",
    "        if(typeParse[0] == 'b'):\n",
    "            #buzz = 1 \n",
    "            labels.append(1)\n",
    "        elif(typeParse[0] == 'minib'):\n",
    "            #minibuzz = 0\n",
    "            labels.append(0)\n",
    "        else: \n",
    "            print('Error, not a buzz or minibuzz!')\n",
    "\n",
    "    print(labels) \n",
    "    print('label loop done')\n",
    "\n",
    "    for array in data: \n",
    "        #loop though STFTs again to zero pad, transpose, and reshape soo that there is one channel  \n",
    "        #NOTE: must be done after we definitvely know the max number of time steps\n",
    "        curSTFT = np.load(array)\n",
    "        rows, cols = curSTFT.shape\n",
    "\n",
    "        zeroPad = np.zeros((rows,maxTime-cols))\n",
    "        paddedSTFT = np.append(curSTFT, zeroPad, axis = 1)\n",
    "\n",
    "        paddedSTFT = np.transpose(paddedSTFT)\n",
    "        paddedSTFT = np.reshape(paddedSTFT, paddedSTFT.shape + (1,))\n",
    "\n",
    "        paddedSTFTs.append(paddedSTFT)\n",
    "\n",
    "    print('sample loop done')\n",
    "\n",
    "    labels = np.array(labels)\n",
    "    #one hot encoding for labels\n",
    "    hotlabels = keras.utils.to_categorical(labels, num_classes=2, dtype='float32')\n",
    "    samples = np.array(paddedSTFTs)\n",
    "    print('hotlabels and samples in np arrays')\n",
    "    return hotlabels, samples\n",
    "\n",
    "print('done with get_labels_get_samples')"
   ]
  },
  {
   "cell_type": "code",
   "execution_count": null,
   "metadata": {},
   "outputs": [],
   "source": []
  },
  {
   "cell_type": "code",
   "execution_count": 5,
   "metadata": {},
   "outputs": [
    {
     "name": "stdout",
     "output_type": "stream",
     "text": [
      "generated training set\n",
      "generated vaildation set\n"
     ]
    }
   ],
   "source": [
    "def data_generator(path, file, datapath, bs, maxTime, mode='train'):\n",
    "    # open the text file for reading\n",
    "    os.chdir(path)\n",
    "    f = open(file, 'r')\n",
    "    while True: \n",
    "        \n",
    "        # initialize our batches of images and labels\n",
    "        samples = []\n",
    "        labels = []\n",
    "    \n",
    "        # keep looping until we reach our batch size\n",
    "        while len(samples) < bs:\n",
    "            # attempt to read the next line of the text file\n",
    "            line = f.readline()\n",
    "            \n",
    "            # check to see if the line is empty, indicating we have\n",
    "            # reached the end of the file\n",
    "            if line == \"\":\n",
    "                # reset the file pointer to the beginning of the file\n",
    "                # and re-read the line\n",
    "                f.seek(0)\n",
    "                line = f.readline()\n",
    "                # if we are evaluating we should now break from our\n",
    "\t\t\t\t# loop to ensure we don't continue to fill up the\n",
    "\t\t\t\t# batch from samples at the beginning of the file\n",
    "                if mode == \"eval\":\n",
    "                    break\n",
    "    \n",
    "            # construct list of labels: find out if file is a buzz or minibuzz, and add label accordingly \n",
    "            nameParse = line.split('_',-1)\n",
    "            #print(nameParse)\n",
    "            typeParse = nameParse[4].split('u', -1)\n",
    "            #print(typeParse)\n",
    "            if(typeParse[0] == 'b'):\n",
    "                #buzz = 1 \n",
    "                labels.append(1)\n",
    "            elif(typeParse[0] == 'minib'):\n",
    "                #minibuzz = 0\n",
    "                labels.append(0)\n",
    "            else: \n",
    "                print('Error, not a buzz or minibuzz!')\n",
    "    \n",
    "            #switch to aws_pilotwhales2 folder\n",
    "            os.chdir(datapath)\n",
    "            #print('changed to aws_pilotwhales2 folder')\n",
    "            \n",
    "            #construct list of samples\n",
    "            lineParse = line.split(\"\\n\",-1)\n",
    "            #print(lineParse)\n",
    "            #print(os.getcwd())\n",
    "            curSTFT = np.load(lineParse[0])\n",
    "            rows, cols = curSTFT.shape\n",
    "    \n",
    "            zeroPad = np.zeros((rows,maxTime-cols))\n",
    "            paddedSTFT = np.append(curSTFT, zeroPad, axis = 1)\n",
    "    \n",
    "            paddedSTFT = np.transpose(paddedSTFT)\n",
    "            paddedSTFT = np.reshape(paddedSTFT, paddedSTFT.shape + (1,))\n",
    "    \n",
    "            samples.append(paddedSTFT)\n",
    "        \n",
    "        #convert from lists to numpy arrays\n",
    "        labels = np.array(labels)\n",
    "        #one hot encoding for labels\n",
    "        hotlabels = keras.utils.to_categorical(labels, num_classes=2, dtype='float32')\n",
    "        samples = np.array(samples)\n",
    "        #print('hotlabels and samples in np arrays')\n",
    "    \n",
    "        # yield the batch to the calling function\n",
    "        if mode == \"predict\":\n",
    "            yield(samples)\n",
    "        else: \n",
    "            yield (samples, hotlabels)\n",
    "        \n",
    "# initialize both the training and validation generators\n",
    "trainGen = data_generator('/home/ec2-user/SageMaker', 'trainList.txt', '/home/ec2-user/SageMaker/aws_pilotwhales2', 13, trainingMax, mode = 'train')\n",
    "print('generated training set')\n",
    "validGen = data_generator('/home/ec2-user/SageMaker', 'validList.txt', '/home/ec2-user/SageMaker/aws_pilotwhales2', 13, trainingMax, mode = 'train')\n",
    "print('generated vaildation set')"
   ]
  },
  {
   "cell_type": "code",
   "execution_count": 6,
   "metadata": {},
   "outputs": [
    {
     "name": "stdout",
     "output_type": "stream",
     "text": [
      "ready to start model\n",
      "made model\n",
      "3559\n",
      "WARNING:tensorflow:From /home/ec2-user/anaconda3/envs/tensorflow_p36/lib/python3.6/site-packages/tensorflow/python/framework/op_def_library.py:263: colocate_with (from tensorflow.python.framework.ops) is deprecated and will be removed in a future version.\n",
      "Instructions for updating:\n",
      "Colocations handled automatically by placer.\n",
      "layer 1 done\n",
      "layer 2 done\n",
      "layer 3 done\n",
      "layer 4 done\n",
      "layer 5 done\n",
      "layer 6 done\n",
      "compiled\n",
      "_________________________________________________________________\n",
      "Layer (type)                 Output Shape              Param #   \n",
      "=================================================================\n",
      "conv2d_1 (Conv2D)            (None, 3559, 1, 256)      262400    \n",
      "_________________________________________________________________\n",
      "re_lu_1 (ReLU)               (None, 3559, 1, 256)      0         \n",
      "_________________________________________________________________\n",
      "conv2d_2 (Conv2D)            (None, 1780, 1, 256)      196608    \n",
      "_________________________________________________________________\n",
      "re_lu_2 (ReLU)               (None, 1780, 1, 256)      0         \n",
      "_________________________________________________________________\n",
      "conv2d_3 (Conv2D)            (None, 890, 1, 256)       196608    \n",
      "_________________________________________________________________\n",
      "re_lu_3 (ReLU)               (None, 890, 1, 256)       0         \n",
      "_________________________________________________________________\n",
      "conv2d_4 (Conv2D)            (None, 445, 1, 256)       196608    \n",
      "_________________________________________________________________\n",
      "re_lu_4 (ReLU)               (None, 445, 1, 256)       0         \n",
      "_________________________________________________________________\n",
      "global_max_pooling2d_1 (Glob (None, 256)               0         \n",
      "_________________________________________________________________\n",
      "dense_1 (Dense)              (None, 2)                 512       \n",
      "=================================================================\n",
      "Total params: 852,736\n",
      "Trainable params: 852,736\n",
      "Non-trainable params: 0\n",
      "_________________________________________________________________\n",
      "None\n"
     ]
    }
   ],
   "source": [
    "#MAKE MODEL AND COMPILE IT\n",
    "\n",
    "#layer 0: input\n",
    "#labels[], samples[] (maxTime rows, 1025 cols) each in trainGen and validGen\n",
    "print('ready to start model')\n",
    "\n",
    "# build model\n",
    "model = Sequential()\n",
    "print('made model')\n",
    "\n",
    "#NOTE, CHANGED PADDING ON 2D CONVOLUTIONS from 'valid'=no paddinng to 'same'=padding so input and output are same dimensions\n",
    "\n",
    "#layer 1: 2D convolution between input and 256 filters with 1 row and 1025 cols\n",
    "print(trainingMax)\n",
    "model.add(Conv2D(256, input_shape = [trainingMax,1025,1], kernel_size = [1,1025], strides=(1, 1), padding='valid', data_format=\"channels_last\", dilation_rate=(1, 1), activation=None, use_bias=False, kernel_initializer='glorot_uniform', bias_initializer='zeros', kernel_regularizer=None, bias_regularizer=None, activity_regularizer=None, kernel_constraint=None, bias_constraint=None))\n",
    "#batch normalization- add in layer? don't understand parameters well\n",
    "#model.add(BatchNormalization(axis=-1, momentum=0.99, epsilon=0.001, center=True, scale=True, beta_initializer='zeros', gamma_initializer='ones', moving_mean_initializer='zeros', moving_variance_initializer='ones', beta_regularizer=None, gamma_regularizer=None, beta_constraint=None, gamma_constraint=None)\n",
    "#reLU layer\n",
    "model.add(ReLU(max_value=None, negative_slope=0.0, threshold=0.0))\n",
    "print('layer 1 done')\n",
    "\n",
    "##layer 2: 2D convolution between output of layer 1 and 256 filters with 3 rows and 256 cols\n",
    "model.add(Conv2D(256, kernel_size = [3,1], strides=(2, 1), padding='same', data_format=\"channels_last\", dilation_rate=(1, 1), activation=None, use_bias=False, kernel_initializer='glorot_uniform', bias_initializer='zeros', kernel_regularizer=None, bias_regularizer=None, activity_regularizer=None, kernel_constraint=None, bias_constraint=None))\n",
    "##batch normalization- add in layer? don't understand parameters well\n",
    "##model.add(BatchNormalization(axis=-1, momentum=0.99, epsilon=0.001, center=True, scale=True, beta_initializer='zeros', gamma_initializer='ones', moving_mean_initializer='zeros', moving_variance_initializer='ones', beta_regularizer=None, gamma_regularizer=None, beta_constraint=None, gamma_constraint=None)\n",
    "##reLU layer\n",
    "model.add(ReLU(max_value=None, negative_slope=0.0, threshold=0.0))\n",
    "print('layer 2 done')\n",
    "\n",
    "#layer 3: 2D convolution between output of layer 2 and 256 filters with 3 rows and 256 cols\n",
    "model.add(Conv2D(256, kernel_size = [3,1], strides=(2, 1), padding='same', data_format=\"channels_last\", dilation_rate=(1, 1), activation=None, use_bias=False, kernel_initializer='glorot_uniform', bias_initializer='zeros', kernel_regularizer=None, bias_regularizer=None, activity_regularizer=None, kernel_constraint=None, bias_constraint=None))\n",
    "##batch normalization- add in layer? don't understand parameters well\n",
    "##model.add(BatchNormalization(axis=-1, momentum=0.99, epsilon=0.001, center=True, scale=True, beta_initializer='zeros', gamma_initializer='ones', moving_mean_initializer='zeros', moving_variance_initializer='ones', beta_regularizer=None, gamma_regularizer=None, beta_constraint=None, gamma_constraint=None)\n",
    "##reLU layer\n",
    "model.add(ReLU(max_value=None, negative_slope=0.0, threshold=0.0))\n",
    "print('layer 3 done')\n",
    "\n",
    "#layer 4: 2D convolution between output of layer 3 and 256 filters with 3 rows and 256 cols\n",
    "model.add(Conv2D(256, kernel_size = [3,1], strides=(2, 1), padding='same', data_format=\"channels_last\", dilation_rate=(1, 1), activation=None, use_bias=False, kernel_initializer='glorot_uniform', bias_initializer='zeros', kernel_regularizer=None, bias_regularizer=None, activity_regularizer=None, kernel_constraint=None, bias_constraint=None))\n",
    "##batch normalization- add in layer? don't understand parameters well\n",
    "##model.add(BatchNormalization(axis=-1, momentum=0.99, epsilon=0.001, center=True, scale=True, beta_initializer='zeros', gamma_initializer='ones', moving_mean_initializer='zeros', moving_variance_initializer='ones', beta_regularizer=None, gamma_regularizer=None, beta_constraint=None, gamma_constraint=None)\n",
    "##reLU layer\n",
    "model.add(ReLU(max_value=None, negative_slope=0.0, threshold=0.0))\n",
    "print('layer 4 done')\n",
    "\n",
    "#layer 5: Global max pooling\n",
    "model.add(GlobalMaxPooling2D(data_format=\"channels_last\"))\n",
    "print('layer 5 done')\n",
    "\n",
    "#layer 6: fully connected layer\n",
    "model.add(Dense(2, activation='softmax', use_bias=False, kernel_initializer='glorot_uniform', bias_initializer='zeros', kernel_regularizer=None, bias_regularizer=None, activity_regularizer=None, kernel_constraint=None, bias_constraint=None))\n",
    "print('layer 6 done')\n",
    "\n",
    "#Compile model [COMPILE]\n",
    "#OLD COMPILE (for fit, not fit_generator)\n",
    "#model.compile(optimizer='adam', loss='binary_crossentropy', metrics=['accuracy'], loss_weights=None, sample_weight_mode=None, weighted_metrics=None, target_tensors=None)\n",
    "opt = SGD(lr=0.02) #note, can play with leraning rate and other parameters here\n",
    "model.compile(loss = \"binary_crossentropy\", optimizer = opt, metrics=[\"accuracy\"])\n",
    "print('compiled')\n",
    "\n",
    "print(model.summary())"
   ]
  },
  {
   "cell_type": "code",
   "execution_count": 7,
   "metadata": {},
   "outputs": [
    {
     "name": "stdout",
     "output_type": "stream",
     "text": [
      "[INFO] training w/ generator...\n",
      "WARNING:tensorflow:From /home/ec2-user/anaconda3/envs/tensorflow_p36/lib/python3.6/site-packages/tensorflow/python/ops/math_ops.py:3066: to_int32 (from tensorflow.python.ops.math_ops) is deprecated and will be removed in a future version.\n",
      "Instructions for updating:\n",
      "Use tf.cast instead.\n",
      "WARNING:tensorflow:From /home/ec2-user/anaconda3/envs/tensorflow_p36/lib/python3.6/site-packages/tensorflow/python/ops/math_grad.py:102: div (from tensorflow.python.ops.math_ops) is deprecated and will be removed in a future version.\n",
      "Instructions for updating:\n",
      "Deprecated in favor of operator or tf.math.divide.\n",
      "Epoch 1/5\n",
      " - 107s - loss: 0.6567 - acc: 0.8498 - val_loss: 0.5881 - val_acc: 0.9308\n",
      "Epoch 2/5\n",
      " - 96s - loss: 0.4863 - acc: 0.9103 - val_loss: 0.3426 - val_acc: 0.9462\n",
      "Epoch 3/5\n",
      " - 96s - loss: 0.3331 - acc: 0.9377 - val_loss: 0.2041 - val_acc: 0.9846\n",
      "Epoch 4/5\n",
      " - 97s - loss: 0.2765 - acc: 0.9432 - val_loss: 0.1528 - val_acc: 0.9769\n",
      "Epoch 5/5\n",
      " - 96s - loss: 0.2404 - acc: 0.9487 - val_loss: 0.1177 - val_acc: 0.9769\n",
      "ran fit_generator\n"
     ]
    }
   ],
   "source": [
    "#Now let us train our model [FIT]\n",
    "ES = keras.callbacks.EarlyStopping(monitor='val_loss', min_delta=0.01, patience=3, verbose=2, mode='auto', baseline=None, restore_best_weights=True)\n",
    "\n",
    "#with fit_generator\n",
    "print(\"[INFO] training w/ generator...\")\n",
    "model.fit_generator(trainGen, steps_per_epoch=42, epochs=5, verbose=2, callbacks=[ES], validation_data=validGen, validation_steps=10, class_weight=None, max_queue_size=10, workers=1, use_multiprocessing=False, shuffle=True, initial_epoch=0)\n",
    "print('ran fit_generator')\n",
    "\n",
    "#with fit\n",
    "#model.fit(x=samples, y=hotlabels, batch_size=13, epochs=5, verbose=2, callbacks=[ES], validation_split=0.2, validation_data=None, shuffle=True, class_weight=None, sample_weight=None, initial_epoch=0, steps_per_epoch=None, validation_steps=None)\n",
    "#print('ran fit')"
   ]
  },
  {
   "cell_type": "code",
   "execution_count": 8,
   "metadata": {},
   "outputs": [
    {
     "name": "stdout",
     "output_type": "stream",
     "text": [
      "generated testing set\n"
     ]
    }
   ],
   "source": [
    "#Prepare test data for evaluation\n",
    "\n",
    "#NOTE NEED TO USE TRAINING MAX TO BE CONSISTENT WITH THE NEURAL NETWORK\n",
    "#find max length (time) in testing data\n",
    "#testingMax = find_max('/home/ec2-user/SageMaker','testList.txt', '/home/ec2-user/SageMaker/aws_pilotwhales2_testData')\n",
    "#maxTime = testingMax\n",
    "#print(testingMax)\n",
    "#print('found testingMax')\n",
    "\n",
    "# initialize testing generator\n",
    "testGen = data_generator('/home/ec2-user/SageMaker', '2011_cut.txt', '/home/ec2-user/SageMaker/aws_pilotwhales2_2011', 13, trainingMax, mode = \"eval\")\n",
    "print('generated testing set')"
   ]
  },
  {
   "cell_type": "code",
   "execution_count": 9,
   "metadata": {},
   "outputs": [
    {
     "name": "stdout",
     "output_type": "stream",
     "text": [
      "13/13 [==============================] - 16s 1s/step\n",
      "[2.2900024331532993, 0.5325443916595899]\n",
      "['loss', 'acc']\n"
     ]
    }
   ],
   "source": [
    "#Now let us evaluate our model [EVALUATE]\n",
    "\n",
    "#with evaluate_generator\n",
    "results = model.evaluate_generator(testGen, steps = 13, max_queue_size=10, workers=1, use_multiprocessing=False, verbose=1)\n",
    "print(results)\n",
    "print(model.metrics_names)\n",
    "\n",
    "#with evauluate\n",
    "#results = model.evaluate(x=testSamples, y=testHotlabels, batch_size=26, verbose=1, sample_weight=None, steps=None)\n"
   ]
  },
  {
   "cell_type": "code",
   "execution_count": null,
   "metadata": {},
   "outputs": [],
   "source": [
    "#HOLD OFF ON \n",
    "#[PREDICT] (w/TestData I kept aside as well)\n",
    "\n",
    "#predictGen = data_generator('/home/ec2-user/SageMaker', 'testList.txt', '/home/ec2-user/SageMaker/aws_pilotwhales2_testData', 13, trainingMax, mode = \"eval\")\n",
    "#print('generated predict set')\n",
    "\n",
    "#with predict_generator\n",
    "#need a different generator(just grab batches of data but do not know answer)\n",
    "#predictions = model.predict_generator(testGen, steps=13, max_queue_size=10, workers=1, use_multiprocessing=False, verbose=1)\n",
    "#print(predictions)\n",
    "\n",
    "#with predict\n",
    "#preprocess STFT data in TestData folder!\n",
    "#see getLabels_stackedData3.py, but don't give labels\n",
    "hotlabels, samples = get_labels_and_samples('/home/ec2-user/SageMaker', 'testList.txt', '/home/ec2-user/SageMaker/aws_pilotwhales2_testData', trainingMax)\n",
    "hotlabels_pred = model.predict(samples, batch_size=13, verbose=1, steps=None)"
   ]
  },
  {
   "cell_type": "code",
   "execution_count": null,
   "metadata": {},
   "outputs": [],
   "source": [
    "#HOLD OFF ON \n",
    "#see if prediction results are right (compare hot labels I generate with what the model guesses)\n",
    "print(hotlabels)\n",
    "hotlabels = keras.utils.to_categorical(hotlabels, num_classes=2, dtype='float32')\n",
    "print(hotlabels)\n",
    "print(hotlabels_pred)\n",
    "print((np.max(abs(hotlabels-hotlabels_pred),axis=1)>.5))"
   ]
  },
  {
   "cell_type": "code",
   "execution_count": null,
   "metadata": {},
   "outputs": [],
   "source": []
  }
 ],
 "metadata": {
  "kernelspec": {
   "display_name": "conda_tensorflow_p36",
   "language": "python",
   "name": "conda_tensorflow_p36"
  },
  "language_info": {
   "codemirror_mode": {
    "name": "ipython",
    "version": 3
   },
   "file_extension": ".py",
   "mimetype": "text/x-python",
   "name": "python",
   "nbconvert_exporter": "python",
   "pygments_lexer": "ipython3",
   "version": "3.6.5"
  }
 },
 "nbformat": 4,
 "nbformat_minor": 2
}
